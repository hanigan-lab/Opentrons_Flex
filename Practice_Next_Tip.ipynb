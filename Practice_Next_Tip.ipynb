{
 "cells": [
  {
   "cell_type": "code",
   "execution_count": null,
   "id": "b185e7c5",
   "metadata": {},
   "outputs": [],
   "source": [
    "from opentrons import protocol_api\n",
    "from opentrons.protocol_api import SINGLE, ALL\n",
    "import pandas as pd\n",
    "import numpy as np\n",
    "import subprocess\n",
    "from pathlib import Path\n",
    "import datetime\n",
    "import time\n",
    "\n",
    "metadata = {\n",
    "    'protocolName': 'BCA Assay with Normalization and Video Recording',\n",
    "    'author': 'Assistant',\n",
    "    'description': 'Serial dilution of BSA standard and sample processing. This includes cooling samples to 4c, heating plate to 37c with shaking and recording a video of the whole process. Place BSA Standard in A1, Lysis buffer in A2, change the number of samples and place samples in row B starting at B1. MINIMUM Sample volumen in eppendorf tubes is 40 uL. '\n",
    "}\n",
    "\n",
    "requirements = {\n",
    "    \"robotType\": \"Flex\",\n",
    "    \"apiLevel\": \"2.21\"\n",
    "}\n",
    "\n",
    "def next_tip(self,num_tips: int = 1,starting_tip: Optional[Well] = None,*,\n",
    "nozzle_map: Optional[NozzleMapInterface] = None,) -> Optional[Well]:\n",
    "    \"\"\"Find the next valid well for pick-up.\n",
    "    Determines the next valid start tip from which to retrieve the\n",
    "    specified number of tips. There must be at least `num_tips` sequential\n",
    "    wells for which all wells have tips, in the same column.\n",
    "    :param num_tips: target number of sequential tips in the same column\n",
    "    :type num_tips: int\n",
    "    :param starting_tip: The :py:class:`.Well` from which to start search.\n",
    "            for an available tip.\n",
    "    :type starting_tip: :py:class:`.Well`\n",
    "    :return: the :py:class:`.Well` meeting the target criteria, or None\"\"\"\n",
    "\n",
    "    assert num_tips > 0, f\"num_tips must be positive integer, but got {num_tips}\"\n",
    "\n",
    "    well_name = self._core.get_next_tip(\n",
    "        num_tips=num_tips,\n",
    "        starting_tip=starting_tip._core if starting_tip else None,\n",
    "        nozzle_map=nozzle_map,\n",
    "    )\n",
    "\n",
    "    return self._wells_by_name[well_name] if well_name is not None else None\n",
    "\n",
    "def run(protocol: protocol_api.ProtocolContext):\n",
         # Load pipettes
         p50_multi = protocol.load_instrument('flex_8channel_50', 'left') 
         p1000_multi = protocol.load_instrument('flex_8channel_1000', 'right')
    "    chute = protocol.load_waste_chute()\n",
    "    tips_50 = protocol.load_labware('opentrons_flex_96_filtertiprack_50ul', 'A4')\n",
    "    partial_50 = protocol.load_labware(load_name=\"opentrons_flex_96_filtertiprack_50ul\",location=\"A2\")\n",
    "\n",
    "    p50_multi.configure_nozzle_layout(style=SINGLE, start=\"A1\",tip_racks=[partial_50])\n",
    "\n",
    "    p50_multi.pick_up_tip()\n",
    "    p50_multi.drop_tip()\n",
    "    \n",
    "    p50_multi.configure_nozzle_layout(style=ALL, start=\"A1\",tip_racks=[partial_50])\n",
    "    available_tip = partial_50.next_tip(num_tips=8)\n",
    "    if next_tip is None:\n",
    "        protocol.move_labware(labware=tips_50, new_location=\"A3\", use_gripper=True)\n",
    "    p50_multi.pick_up_tip()\n",
    "    p50_multi.drop_tip()"
   ]
  }
 ],
 "metadata": {
  "language_info": {
   "name": "python"
  }
 },
 "nbformat": 4,
 "nbformat_minor": 5
}
